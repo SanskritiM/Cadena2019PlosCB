{
 "cells": [
  {
   "cell_type": "code",
   "execution_count": 1,
   "metadata": {},
   "outputs": [
    {
     "name": "stdout",
     "output_type": "stream",
     "text": [
      "%pylab is deprecated, use %matplotlib inline and import the required libraries.\n",
      "Populating the interactive namespace from numpy and matplotlib\n",
      "c:\\Cadena2019PlosCB\n",
      "path:c:\\Cadena2019PlosCB\n"
     ]
    },
    {
     "name": "stderr",
     "output_type": "stream",
     "text": [
      "c:\\Cadena2019PlosCB\\.research6\\Lib\\site-packages\\IPython\\core\\magics\\osm.py:417: UserWarning: using dhist requires you to install the `pickleshare` library.\n",
      "  self.shell.db['dhist'] = compress_dhist(dhist)[-100:]\n"
     ]
    }
   ],
   "source": [
    "%pylab inline\n",
    "import os\n",
    "import sys\n",
    "import numpy as np\n",
    "import importlib\n",
    "\n",
    "%cd ..\n",
    "p = os.getcwd()\n",
    "print(\"path:\" + p)\n",
    "if p not in sys.path:\n",
    "    sys.path.append(p)\n",
    "    \n",
    "from cnn_sys_ident.data import Dataset, MonkeyDataset\n",
    "from cnn_sys_ident.vggsysid import VggTransfer"
   ]
  },
  {
   "cell_type": "markdown",
   "metadata": {},
   "source": [
    "### Load Data"
   ]
  },
  {
   "cell_type": "code",
   "execution_count": 2,
   "metadata": {},
   "outputs": [],
   "source": [
    "# data_dict = Dataset.load_data()\n",
    "# data_dict = Dataset.manage_repeats(data_dict)\n",
    "# data_dict = Dataset.preprocess_nans(data_dict)\n",
    "# data_dict = Dataset.add_train_test_types(data_dict, types_train='all', types_test='all')\n",
    "\n",
    "# With a wrapper function\n",
    "data_dict = Dataset.get_clean_data()"
   ]
  },
  {
   "cell_type": "code",
   "execution_count": 3,
   "metadata": {},
   "outputs": [],
   "source": [
    "data = MonkeyDataset(data_dict, seed=1000, train_frac=0.8 ,subsample=2, crop = 30)"
   ]
  },
  {
   "cell_type": "markdown",
   "metadata": {},
   "source": [
    "### Define the Model"
   ]
  },
  {
   "cell_type": "code",
   "execution_count": 4,
   "metadata": {},
   "outputs": [],
   "source": [
    "model = VggTransfer(data, log_dir='monkey', log_hash='vgg', obs_noise_model='poisson')"
   ]
  },
  {
   "cell_type": "code",
   "execution_count": 5,
   "metadata": {},
   "outputs": [
    {
     "name": "stdout",
     "output_type": "stream",
     "text": [
      "Log dir: vgg\n"
     ]
    },
    {
     "name": "stderr",
     "output_type": "stream",
     "text": [
      "c:\\Cadena2019PlosCB\\cnn_sys_ident\\data.py:180: RuntimeWarning: Mean of empty slice\n",
      "  return self.images_test, np.nanmean(self.nanarray(self.real_resps_test,self.responses_test),axis=0)\n"
     ]
    },
    {
     "name": "stdout",
     "output_type": "stream",
     "text": [
      "Average variances | validation set: 2.586168 | test set: 1.457066\n"
     ]
    }
   ],
   "source": [
    "print('Log dir: %s' % model.log_hash)\n",
    "_, test_responses = data.test_av()\n",
    "_, val_responses, real_val_resps = data.val()\n",
    "_, tr_responses, real_tr_resps = data.train()\n",
    "\n",
    "val_array = data.nanarray(real_val_resps,val_responses)\n",
    "tr_array = data.nanarray(real_tr_resps,tr_responses)\n",
    "print('Average variances | validation set: %f | test set: %f' % (np.nanmean(np.nanvar(val_array, axis=0)), np.nanmean(np.nanvar(test_responses, axis=0))))"
   ]
  },
  {
   "cell_type": "markdown",
   "metadata": {},
   "source": [
    "### Build the Model"
   ]
  },
  {
   "cell_type": "code",
   "execution_count": 6,
   "metadata": {},
   "outputs": [
    {
     "name": "stderr",
     "output_type": "stream",
     "text": [
      "c:\\Cadena2019PlosCB\\.research6\\Lib\\site-packages\\tensorflow\\python\\keras\\engine\\base_layer_v1.py:1694: UserWarning: `layer.apply` is deprecated and will be removed in a future version. Please use `layer.__call__` method instead.\n",
      "  warnings.warn('`layer.apply` is deprecated and '\n",
      "c:\\Cadena2019PlosCB\\cnn_sys_ident\\vggsysid.py:64: UserWarning: `tf.layers.batch_normalization` is deprecated and will be removed in a future version. Please use `tf.keras.layers.BatchNormalization` instead. In particular, `tf.control_dependencies(tf.GraphKeys.UPDATE_OPS)` should not be used (consult the `tf.keras.layers.BatchNormalization` documentation).\n",
      "  vgg_feats_bn = tf.compat.v1.layers.batch_normalization(vgg_features, training = self.is_training,\\\n"
     ]
    },
    {
     "name": "stdout",
     "output_type": "stream",
     "text": [
      "WARNING:tensorflow:From c:\\Cadena2019PlosCB\\.research6\\Lib\\site-packages\\keras\\layers\\normalization\\batch_normalization.py:581: _colocate_with (from tensorflow.python.framework.ops) is deprecated and will be removed in a future version.\n",
      "Instructions for updating:\n",
      "Colocations handled automatically by placer.\n",
      "INFO:tensorflow:Restoring parameters from c:\\Cadena2019PlosCB\\vgg_weights/vgg_normalized.ckpt\n"
     ]
    }
   ],
   "source": [
    "model.build(name_readout_layer='conv3/conv3_1', \n",
    "          smooth_reg_weight=0.1, \n",
    "          sparse_reg_weight=0.01, \n",
    "          group_sparsity_weight=0.01,\n",
    "          output_nonlin_smooth_weight=-1,\n",
    "          b_norm=True)"
   ]
  },
  {
   "cell_type": "markdown",
   "metadata": {},
   "source": [
    "### Train the Model"
   ]
  },
  {
   "cell_type": "code",
   "execution_count": 7,
   "metadata": {},
   "outputs": [
    {
     "ename": "KeyboardInterrupt",
     "evalue": "",
     "output_type": "error",
     "traceback": [
      "\u001b[1;31m---------------------------------------------------------------------------\u001b[0m",
      "\u001b[1;31mKeyboardInterrupt\u001b[0m                         Traceback (most recent call last)",
      "\u001b[1;32mc:\\Cadena2019PlosCB\\notebooks\\ExampleVGG-ModelTraining.ipynb Cell 11\u001b[0m line \u001b[0;36m1\n\u001b[0;32m      <a href='vscode-notebook-cell:/c%3A/Cadena2019PlosCB/notebooks/ExampleVGG-ModelTraining.ipynb#X13sZmlsZQ%3D%3D?line=2'>3</a>\u001b[0m \u001b[39mfor\u001b[39;00m lr_decay \u001b[39min\u001b[39;00m \u001b[39mrange\u001b[39m(\u001b[39m3\u001b[39m):\n\u001b[0;32m      <a href='vscode-notebook-cell:/c%3A/Cadena2019PlosCB/notebooks/ExampleVGG-ModelTraining.ipynb#X13sZmlsZQ%3D%3D?line=3'>4</a>\u001b[0m     training \u001b[39m=\u001b[39m model\u001b[39m.\u001b[39mtrain(max_iter\u001b[39m=\u001b[39m\u001b[39m10000\u001b[39m,\n\u001b[0;32m      <a href='vscode-notebook-cell:/c%3A/Cadena2019PlosCB/notebooks/ExampleVGG-ModelTraining.ipynb#X13sZmlsZQ%3D%3D?line=4'>5</a>\u001b[0m                          val_steps\u001b[39m=\u001b[39m\u001b[39m100\u001b[39m, \n\u001b[0;32m      <a href='vscode-notebook-cell:/c%3A/Cadena2019PlosCB/notebooks/ExampleVGG-ModelTraining.ipynb#X13sZmlsZQ%3D%3D?line=5'>6</a>\u001b[0m                          save_steps\u001b[39m=\u001b[39m\u001b[39m10000\u001b[39m,\n\u001b[0;32m      <a href='vscode-notebook-cell:/c%3A/Cadena2019PlosCB/notebooks/ExampleVGG-ModelTraining.ipynb#X13sZmlsZQ%3D%3D?line=6'>7</a>\u001b[0m                          early_stopping_steps\u001b[39m=\u001b[39m\u001b[39m10\u001b[39m,\n\u001b[0;32m      <a href='vscode-notebook-cell:/c%3A/Cadena2019PlosCB/notebooks/ExampleVGG-ModelTraining.ipynb#X13sZmlsZQ%3D%3D?line=7'>8</a>\u001b[0m                          batch_size\u001b[39m=\u001b[39m\u001b[39m256\u001b[39m,\n\u001b[0;32m      <a href='vscode-notebook-cell:/c%3A/Cadena2019PlosCB/notebooks/ExampleVGG-ModelTraining.ipynb#X13sZmlsZQ%3D%3D?line=8'>9</a>\u001b[0m                          learning_rate\u001b[39m=\u001b[39mlearning_rate)\n\u001b[1;32m---> <a href='vscode-notebook-cell:/c%3A/Cadena2019PlosCB/notebooks/ExampleVGG-ModelTraining.ipynb#X13sZmlsZQ%3D%3D?line=9'>10</a>\u001b[0m     \u001b[39mfor\u001b[39;49;00m (i, (logl, total_loss, mse, pred)) \u001b[39min\u001b[39;49;00m training:\n\u001b[0;32m     <a href='vscode-notebook-cell:/c%3A/Cadena2019PlosCB/notebooks/ExampleVGG-ModelTraining.ipynb#X13sZmlsZQ%3D%3D?line=10'>11</a>\u001b[0m         \u001b[39mprint\u001b[39;49m(\u001b[39m'\u001b[39;49m\u001b[39mStep \u001b[39;49m\u001b[39m%d\u001b[39;49;00m\u001b[39m | Total loss: \u001b[39;49m\u001b[39m%s\u001b[39;49;00m\u001b[39m | \u001b[39;49m\u001b[39m%s\u001b[39;49;00m\u001b[39m: \u001b[39;49m\u001b[39m%s\u001b[39;49;00m\u001b[39m | MSE: \u001b[39;49m\u001b[39m%s\u001b[39;49;00m\u001b[39m | Var(y): \u001b[39;49m\u001b[39m%s\u001b[39;49;00m\u001b[39m'\u001b[39;49m \u001b[39m%\u001b[39;49m (i, total_loss, model\u001b[39m.\u001b[39;49mobs_noise_model, logl, mse, np\u001b[39m.\u001b[39;49mmean(np\u001b[39m.\u001b[39;49mvar(pred, axis\u001b[39m=\u001b[39;49m\u001b[39m0\u001b[39;49m))))\n\u001b[0;32m     <a href='vscode-notebook-cell:/c%3A/Cadena2019PlosCB/notebooks/ExampleVGG-ModelTraining.ipynb#X13sZmlsZQ%3D%3D?line=11'>12</a>\u001b[0m     learning_rate \u001b[39m/\u001b[39m\u001b[39m=\u001b[39m \u001b[39m3\u001b[39m  \u001b[39m# Learning rate decays to one third once it stops improving\u001b[39;00m\n",
      "File \u001b[1;32mc:\\Cadena2019PlosCB\\cnn_sys_ident\\base.py:115\u001b[0m, in \u001b[0;36mModel.train\u001b[1;34m(self, max_iter, learning_rate, batch_size, val_steps, save_steps, early_stopping_steps)\u001b[0m\n\u001b[0;32m    109\u001b[0m \u001b[39mself\u001b[39m\u001b[39m.\u001b[39mglobal_step \u001b[39m=\u001b[39m i\n\u001b[0;32m    110\u001b[0m feed_dict \u001b[39m=\u001b[39m {\u001b[39mself\u001b[39m\u001b[39m.\u001b[39mimages: imgs_batch,\n\u001b[0;32m    111\u001b[0m              \u001b[39mself\u001b[39m\u001b[39m.\u001b[39mresponses: res_batch,\n\u001b[0;32m    112\u001b[0m              \u001b[39mself\u001b[39m\u001b[39m.\u001b[39mrealresp : rresp_batch,\n\u001b[0;32m    113\u001b[0m              \u001b[39mself\u001b[39m\u001b[39m.\u001b[39mis_training: \u001b[39mTrue\u001b[39;00m,\n\u001b[0;32m    114\u001b[0m              \u001b[39mself\u001b[39m\u001b[39m.\u001b[39mlearning_rate: learning_rate}\n\u001b[1;32m--> 115\u001b[0m \u001b[39mself\u001b[39;49m\u001b[39m.\u001b[39;49msession\u001b[39m.\u001b[39;49mrun([\u001b[39mself\u001b[39;49m\u001b[39m.\u001b[39;49mtrain_step, update_ops], feed_dict)\n\u001b[0;32m    116\u001b[0m \u001b[39m# validate/save periodically\u001b[39;00m\n\u001b[0;32m    117\u001b[0m \u001b[39mif\u001b[39;00m \u001b[39mnot\u001b[39;00m i \u001b[39m%\u001b[39m save_steps:\n",
      "File \u001b[1;32mc:\\Cadena2019PlosCB\\.research6\\Lib\\site-packages\\tensorflow\\python\\client\\session.py:968\u001b[0m, in \u001b[0;36mBaseSession.run\u001b[1;34m(self, fetches, feed_dict, options, run_metadata)\u001b[0m\n\u001b[0;32m    965\u001b[0m run_metadata_ptr \u001b[39m=\u001b[39m tf_session\u001b[39m.\u001b[39mTF_NewBuffer() \u001b[39mif\u001b[39;00m run_metadata \u001b[39melse\u001b[39;00m \u001b[39mNone\u001b[39;00m\n\u001b[0;32m    967\u001b[0m \u001b[39mtry\u001b[39;00m:\n\u001b[1;32m--> 968\u001b[0m   result \u001b[39m=\u001b[39m \u001b[39mself\u001b[39;49m\u001b[39m.\u001b[39;49m_run(\u001b[39mNone\u001b[39;49;00m, fetches, feed_dict, options_ptr,\n\u001b[0;32m    969\u001b[0m                      run_metadata_ptr)\n\u001b[0;32m    970\u001b[0m   \u001b[39mif\u001b[39;00m run_metadata:\n\u001b[0;32m    971\u001b[0m     proto_data \u001b[39m=\u001b[39m tf_session\u001b[39m.\u001b[39mTF_GetBuffer(run_metadata_ptr)\n",
      "File \u001b[1;32mc:\\Cadena2019PlosCB\\.research6\\Lib\\site-packages\\tensorflow\\python\\client\\session.py:1191\u001b[0m, in \u001b[0;36mBaseSession._run\u001b[1;34m(self, handle, fetches, feed_dict, options, run_metadata)\u001b[0m\n\u001b[0;32m   1188\u001b[0m \u001b[39m# We only want to really perform the run if fetches or targets are provided,\u001b[39;00m\n\u001b[0;32m   1189\u001b[0m \u001b[39m# or if the call is a partial run that specifies feeds.\u001b[39;00m\n\u001b[0;32m   1190\u001b[0m \u001b[39mif\u001b[39;00m final_fetches \u001b[39mor\u001b[39;00m final_targets \u001b[39mor\u001b[39;00m (handle \u001b[39mand\u001b[39;00m feed_dict_tensor):\n\u001b[1;32m-> 1191\u001b[0m   results \u001b[39m=\u001b[39m \u001b[39mself\u001b[39;49m\u001b[39m.\u001b[39;49m_do_run(handle, final_targets, final_fetches,\n\u001b[0;32m   1192\u001b[0m                          feed_dict_tensor, options, run_metadata)\n\u001b[0;32m   1193\u001b[0m \u001b[39melse\u001b[39;00m:\n\u001b[0;32m   1194\u001b[0m   results \u001b[39m=\u001b[39m []\n",
      "File \u001b[1;32mc:\\Cadena2019PlosCB\\.research6\\Lib\\site-packages\\tensorflow\\python\\client\\session.py:1371\u001b[0m, in \u001b[0;36mBaseSession._do_run\u001b[1;34m(self, handle, target_list, fetch_list, feed_dict, options, run_metadata)\u001b[0m\n\u001b[0;32m   1368\u001b[0m   \u001b[39mreturn\u001b[39;00m \u001b[39mself\u001b[39m\u001b[39m.\u001b[39m_call_tf_sessionprun(handle, feed_dict, fetch_list)\n\u001b[0;32m   1370\u001b[0m \u001b[39mif\u001b[39;00m handle \u001b[39mis\u001b[39;00m \u001b[39mNone\u001b[39;00m:\n\u001b[1;32m-> 1371\u001b[0m   \u001b[39mreturn\u001b[39;00m \u001b[39mself\u001b[39;49m\u001b[39m.\u001b[39;49m_do_call(_run_fn, feeds, fetches, targets, options,\n\u001b[0;32m   1372\u001b[0m                        run_metadata)\n\u001b[0;32m   1373\u001b[0m \u001b[39melse\u001b[39;00m:\n\u001b[0;32m   1374\u001b[0m   \u001b[39mreturn\u001b[39;00m \u001b[39mself\u001b[39m\u001b[39m.\u001b[39m_do_call(_prun_fn, handle, feeds, fetches)\n",
      "File \u001b[1;32mc:\\Cadena2019PlosCB\\.research6\\Lib\\site-packages\\tensorflow\\python\\client\\session.py:1378\u001b[0m, in \u001b[0;36mBaseSession._do_call\u001b[1;34m(self, fn, *args)\u001b[0m\n\u001b[0;32m   1376\u001b[0m \u001b[39mdef\u001b[39;00m \u001b[39m_do_call\u001b[39m(\u001b[39mself\u001b[39m, fn, \u001b[39m*\u001b[39margs):\n\u001b[0;32m   1377\u001b[0m   \u001b[39mtry\u001b[39;00m:\n\u001b[1;32m-> 1378\u001b[0m     \u001b[39mreturn\u001b[39;00m fn(\u001b[39m*\u001b[39;49margs)\n\u001b[0;32m   1379\u001b[0m   \u001b[39mexcept\u001b[39;00m errors\u001b[39m.\u001b[39mOpError \u001b[39mas\u001b[39;00m e:\n\u001b[0;32m   1380\u001b[0m     message \u001b[39m=\u001b[39m compat\u001b[39m.\u001b[39mas_text(e\u001b[39m.\u001b[39mmessage)\n",
      "File \u001b[1;32mc:\\Cadena2019PlosCB\\.research6\\Lib\\site-packages\\tensorflow\\python\\client\\session.py:1361\u001b[0m, in \u001b[0;36mBaseSession._do_run.<locals>._run_fn\u001b[1;34m(feed_dict, fetch_list, target_list, options, run_metadata)\u001b[0m\n\u001b[0;32m   1358\u001b[0m \u001b[39mdef\u001b[39;00m \u001b[39m_run_fn\u001b[39m(feed_dict, fetch_list, target_list, options, run_metadata):\n\u001b[0;32m   1359\u001b[0m   \u001b[39m# Ensure any changes to the graph are reflected in the runtime.\u001b[39;00m\n\u001b[0;32m   1360\u001b[0m   \u001b[39mself\u001b[39m\u001b[39m.\u001b[39m_extend_graph()\n\u001b[1;32m-> 1361\u001b[0m   \u001b[39mreturn\u001b[39;00m \u001b[39mself\u001b[39;49m\u001b[39m.\u001b[39;49m_call_tf_sessionrun(options, feed_dict, fetch_list,\n\u001b[0;32m   1362\u001b[0m                                   target_list, run_metadata)\n",
      "File \u001b[1;32mc:\\Cadena2019PlosCB\\.research6\\Lib\\site-packages\\tensorflow\\python\\client\\session.py:1454\u001b[0m, in \u001b[0;36mBaseSession._call_tf_sessionrun\u001b[1;34m(self, options, feed_dict, fetch_list, target_list, run_metadata)\u001b[0m\n\u001b[0;32m   1452\u001b[0m \u001b[39mdef\u001b[39;00m \u001b[39m_call_tf_sessionrun\u001b[39m(\u001b[39mself\u001b[39m, options, feed_dict, fetch_list, target_list,\n\u001b[0;32m   1453\u001b[0m                         run_metadata):\n\u001b[1;32m-> 1454\u001b[0m   \u001b[39mreturn\u001b[39;00m tf_session\u001b[39m.\u001b[39;49mTF_SessionRun_wrapper(\u001b[39mself\u001b[39;49m\u001b[39m.\u001b[39;49m_session, options, feed_dict,\n\u001b[0;32m   1455\u001b[0m                                           fetch_list, target_list,\n\u001b[0;32m   1456\u001b[0m                                           run_metadata)\n",
      "\u001b[1;31mKeyboardInterrupt\u001b[0m: "
     ]
    }
   ],
   "source": [
    "# Training the network\n",
    "learning_rate=1e-4\n",
    "for lr_decay in range(3):\n",
    "    training = model.train(max_iter=10000,\n",
    "                         val_steps=100, \n",
    "                         save_steps=10000,\n",
    "                         early_stopping_steps=10,\n",
    "                         batch_size=256,\n",
    "                         learning_rate=learning_rate)\n",
    "    for (i, (logl, total_loss, mse, pred)) in training:\n",
    "        print('Step %d | Total loss: %s | %s: %s | MSE: %s | Var(y): %s' % (i, total_loss, model.obs_noise_model, logl, mse, np.mean(np.var(pred, axis=0))))\n",
    "    learning_rate /= 3  # Learning rate decays to one third once it stops improving\n",
    "    print('Reducing learning rate to %f' % learning_rate)\n",
    "print('Done fitting')"
   ]
  },
  {
   "cell_type": "markdown",
   "metadata": {},
   "source": [
    "### Test Performance of the Model"
   ]
  },
  {
   "cell_type": "code",
   "execution_count": null,
   "metadata": {},
   "outputs": [],
   "source": [
    "model.performance_test()\n",
    "eve = model.eve.mean()\n",
    "print('Explainable variance explained on test set: {}'.format(eve))"
   ]
  },
  {
   "cell_type": "code",
   "execution_count": null,
   "metadata": {},
   "outputs": [],
   "source": [
    "model.performance_val()\n",
    "eve_val = model.eve_val.mean()\n",
    "print('Explainable variance explained on validation set: {}'.format(eve_val))"
   ]
  },
  {
   "cell_type": "code",
   "execution_count": null,
   "metadata": {},
   "outputs": [],
   "source": [
    "avg_correlation_valset = model.evaluate_avg_corr_val()\n",
    "print('Mean single trial correlation on validation set: {}'.format(avg_correlation_valset))"
   ]
  },
  {
   "cell_type": "code",
   "execution_count": null,
   "metadata": {},
   "outputs": [],
   "source": []
  },
  {
   "cell_type": "code",
   "execution_count": null,
   "metadata": {},
   "outputs": [],
   "source": []
  }
 ],
 "metadata": {
  "kernelspec": {
   "display_name": "Python 3",
   "language": "python",
   "name": "python3"
  },
  "language_info": {
   "codemirror_mode": {
    "name": "ipython",
    "version": 3
   },
   "file_extension": ".py",
   "mimetype": "text/x-python",
   "name": "python",
   "nbconvert_exporter": "python",
   "pygments_lexer": "ipython3",
   "version": "3.11.6"
  }
 },
 "nbformat": 4,
 "nbformat_minor": 2
}
